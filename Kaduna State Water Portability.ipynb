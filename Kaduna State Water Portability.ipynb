{
 "cells": [
  {
   "cell_type": "code",
   "execution_count": 1,
   "id": "62f25b65",
   "metadata": {},
   "outputs": [],
   "source": [
    "import pandas as pd\n",
    "import matplotlib.pyplot as plt\n",
    "import seaborn as sns\n",
    "import numpy as np\n",
    "from sklearn.linear_model import LogisticRegression\n",
    "from sklearn.preprocessing import LabelEncoder,StandardScaler\n",
    "from sklearn.svm import SVC\n",
    "from sklearn.metrics import classification_report,confusion_matrix\n",
    "import warnings\n",
    "warnings.filterwarnings('ignore')"
   ]
  },
  {
   "cell_type": "code",
   "execution_count": 2,
   "id": "1ecc0efc",
   "metadata": {},
   "outputs": [],
   "source": [
    "df = pd.read_csv(\"kaduna_water_resources.csv\")"
   ]
  },
  {
   "cell_type": "code",
   "execution_count": 3,
   "id": "8f650837",
   "metadata": {},
   "outputs": [
    {
     "data": {
      "text/html": [
       "<div>\n",
       "<style scoped>\n",
       "    .dataframe tbody tr th:only-of-type {\n",
       "        vertical-align: middle;\n",
       "    }\n",
       "\n",
       "    .dataframe tbody tr th {\n",
       "        vertical-align: top;\n",
       "    }\n",
       "\n",
       "    .dataframe thead th {\n",
       "        text-align: right;\n",
       "    }\n",
       "</style>\n",
       "<table border=\"1\" class=\"dataframe\">\n",
       "  <thead>\n",
       "    <tr style=\"text-align: right;\">\n",
       "      <th></th>\n",
       "      <th>Unnamed: 0</th>\n",
       "      <th>ph</th>\n",
       "      <th>Hardness</th>\n",
       "      <th>Conductivity</th>\n",
       "      <th>Turbidity</th>\n",
       "      <th>TC</th>\n",
       "      <th>portability</th>\n",
       "    </tr>\n",
       "  </thead>\n",
       "  <tbody>\n",
       "    <tr>\n",
       "      <th>0</th>\n",
       "      <td>0</td>\n",
       "      <td>3.716080</td>\n",
       "      <td>129.422921</td>\n",
       "      <td>592.885359</td>\n",
       "      <td>4.500656</td>\n",
       "      <td>8391.0</td>\n",
       "      <td>0</td>\n",
       "    </tr>\n",
       "    <tr>\n",
       "      <th>1</th>\n",
       "      <td>1</td>\n",
       "      <td>8.099124</td>\n",
       "      <td>224.236259</td>\n",
       "      <td>418.606213</td>\n",
       "      <td>3.055934</td>\n",
       "      <td>5330.0</td>\n",
       "      <td>0</td>\n",
       "    </tr>\n",
       "    <tr>\n",
       "      <th>2</th>\n",
       "      <td>2</td>\n",
       "      <td>8.316766</td>\n",
       "      <td>214.373394</td>\n",
       "      <td>363.266516</td>\n",
       "      <td>4.628771</td>\n",
       "      <td>8443.0</td>\n",
       "      <td>0</td>\n",
       "    </tr>\n",
       "    <tr>\n",
       "      <th>3</th>\n",
       "      <td>3</td>\n",
       "      <td>9.092223</td>\n",
       "      <td>181.101509</td>\n",
       "      <td>398.410813</td>\n",
       "      <td>4.075075</td>\n",
       "      <td>5500.0</td>\n",
       "      <td>0</td>\n",
       "    </tr>\n",
       "    <tr>\n",
       "      <th>4</th>\n",
       "      <td>4</td>\n",
       "      <td>5.584087</td>\n",
       "      <td>188.313324</td>\n",
       "      <td>280.467916</td>\n",
       "      <td>2.559708</td>\n",
       "      <td>4049.0</td>\n",
       "      <td>0</td>\n",
       "    </tr>\n",
       "    <tr>\n",
       "      <th>...</th>\n",
       "      <td>...</td>\n",
       "      <td>...</td>\n",
       "      <td>...</td>\n",
       "      <td>...</td>\n",
       "      <td>...</td>\n",
       "      <td>...</td>\n",
       "      <td>...</td>\n",
       "    </tr>\n",
       "    <tr>\n",
       "      <th>1679</th>\n",
       "      <td>1679</td>\n",
       "      <td>6.266800</td>\n",
       "      <td>187.829617</td>\n",
       "      <td>277.050802</td>\n",
       "      <td>3.652845</td>\n",
       "      <td>205.0</td>\n",
       "      <td>0</td>\n",
       "    </tr>\n",
       "    <tr>\n",
       "      <th>1680</th>\n",
       "      <td>1680</td>\n",
       "      <td>6.630252</td>\n",
       "      <td>160.920384</td>\n",
       "      <td>416.898071</td>\n",
       "      <td>5.181202</td>\n",
       "      <td>202.0</td>\n",
       "      <td>0</td>\n",
       "    </tr>\n",
       "    <tr>\n",
       "      <th>1681</th>\n",
       "      <td>1681</td>\n",
       "      <td>6.775631</td>\n",
       "      <td>154.372543</td>\n",
       "      <td>597.979274</td>\n",
       "      <td>3.017544</td>\n",
       "      <td>315.0</td>\n",
       "      <td>0</td>\n",
       "    </tr>\n",
       "    <tr>\n",
       "      <th>1682</th>\n",
       "      <td>1682</td>\n",
       "      <td>8.164992</td>\n",
       "      <td>278.340358</td>\n",
       "      <td>384.783185</td>\n",
       "      <td>4.162496</td>\n",
       "      <td>562.0</td>\n",
       "      <td>0</td>\n",
       "    </tr>\n",
       "    <tr>\n",
       "      <th>1683</th>\n",
       "      <td>1683</td>\n",
       "      <td>7.773758</td>\n",
       "      <td>251.462844</td>\n",
       "      <td>355.831683</td>\n",
       "      <td>4.040974</td>\n",
       "      <td>546.0</td>\n",
       "      <td>0</td>\n",
       "    </tr>\n",
       "  </tbody>\n",
       "</table>\n",
       "<p>1684 rows × 7 columns</p>\n",
       "</div>"
      ],
      "text/plain": [
       "      Unnamed: 0        ph    Hardness  Conductivity  Turbidity      TC  \\\n",
       "0              0  3.716080  129.422921    592.885359   4.500656  8391.0   \n",
       "1              1  8.099124  224.236259    418.606213   3.055934  5330.0   \n",
       "2              2  8.316766  214.373394    363.266516   4.628771  8443.0   \n",
       "3              3  9.092223  181.101509    398.410813   4.075075  5500.0   \n",
       "4              4  5.584087  188.313324    280.467916   2.559708  4049.0   \n",
       "...          ...       ...         ...           ...        ...     ...   \n",
       "1679        1679  6.266800  187.829617    277.050802   3.652845   205.0   \n",
       "1680        1680  6.630252  160.920384    416.898071   5.181202   202.0   \n",
       "1681        1681  6.775631  154.372543    597.979274   3.017544   315.0   \n",
       "1682        1682  8.164992  278.340358    384.783185   4.162496   562.0   \n",
       "1683        1683  7.773758  251.462844    355.831683   4.040974   546.0   \n",
       "\n",
       "      portability  \n",
       "0               0  \n",
       "1               0  \n",
       "2               0  \n",
       "3               0  \n",
       "4               0  \n",
       "...           ...  \n",
       "1679            0  \n",
       "1680            0  \n",
       "1681            0  \n",
       "1682            0  \n",
       "1683            0  \n",
       "\n",
       "[1684 rows x 7 columns]"
      ]
     },
     "execution_count": 3,
     "metadata": {},
     "output_type": "execute_result"
    }
   ],
   "source": [
    "df"
   ]
  },
  {
   "cell_type": "code",
   "execution_count": 4,
   "id": "16500f59",
   "metadata": {},
   "outputs": [
    {
     "name": "stdout",
     "output_type": "stream",
     "text": [
      "<class 'pandas.core.frame.DataFrame'>\n",
      "RangeIndex: 1684 entries, 0 to 1683\n",
      "Data columns (total 7 columns):\n",
      " #   Column        Non-Null Count  Dtype  \n",
      "---  ------        --------------  -----  \n",
      " 0   Unnamed: 0    1684 non-null   int64  \n",
      " 1   ph            1684 non-null   float64\n",
      " 2   Hardness      1684 non-null   float64\n",
      " 3   Conductivity  1684 non-null   float64\n",
      " 4   Turbidity     1684 non-null   float64\n",
      " 5   TC            1684 non-null   float64\n",
      " 6   portability   1684 non-null   int64  \n",
      "dtypes: float64(5), int64(2)\n",
      "memory usage: 92.2 KB\n"
     ]
    }
   ],
   "source": [
    "df.info()"
   ]
  },
  {
   "cell_type": "code",
   "execution_count": 5,
   "id": "7650cc1a",
   "metadata": {},
   "outputs": [
    {
     "data": {
      "text/html": [
       "<div>\n",
       "<style scoped>\n",
       "    .dataframe tbody tr th:only-of-type {\n",
       "        vertical-align: middle;\n",
       "    }\n",
       "\n",
       "    .dataframe tbody tr th {\n",
       "        vertical-align: top;\n",
       "    }\n",
       "\n",
       "    .dataframe thead th {\n",
       "        text-align: right;\n",
       "    }\n",
       "</style>\n",
       "<table border=\"1\" class=\"dataframe\">\n",
       "  <thead>\n",
       "    <tr style=\"text-align: right;\">\n",
       "      <th></th>\n",
       "      <th>Unnamed: 0</th>\n",
       "      <th>ph</th>\n",
       "      <th>Hardness</th>\n",
       "      <th>Conductivity</th>\n",
       "      <th>Turbidity</th>\n",
       "      <th>TC</th>\n",
       "      <th>portability</th>\n",
       "    </tr>\n",
       "  </thead>\n",
       "  <tbody>\n",
       "    <tr>\n",
       "      <th>count</th>\n",
       "      <td>1684.000000</td>\n",
       "      <td>1684.000000</td>\n",
       "      <td>1684.000000</td>\n",
       "      <td>1684.000000</td>\n",
       "      <td>1684.000000</td>\n",
       "      <td>1.684000e+03</td>\n",
       "      <td>1684.000000</td>\n",
       "    </tr>\n",
       "    <tr>\n",
       "      <th>mean</th>\n",
       "      <td>841.500000</td>\n",
       "      <td>7.084468</td>\n",
       "      <td>196.451376</td>\n",
       "      <td>427.322914</td>\n",
       "      <td>3.948001</td>\n",
       "      <td>2.840966e+05</td>\n",
       "      <td>0.002969</td>\n",
       "    </tr>\n",
       "    <tr>\n",
       "      <th>std</th>\n",
       "      <td>486.273243</td>\n",
       "      <td>1.509974</td>\n",
       "      <td>32.211391</td>\n",
       "      <td>79.596333</td>\n",
       "      <td>0.790003</td>\n",
       "      <td>8.289090e+06</td>\n",
       "      <td>0.054425</td>\n",
       "    </tr>\n",
       "    <tr>\n",
       "      <th>min</th>\n",
       "      <td>0.000000</td>\n",
       "      <td>0.227499</td>\n",
       "      <td>47.432000</td>\n",
       "      <td>181.483754</td>\n",
       "      <td>1.492207</td>\n",
       "      <td>0.000000e+00</td>\n",
       "      <td>0.000000</td>\n",
       "    </tr>\n",
       "    <tr>\n",
       "      <th>25%</th>\n",
       "      <td>420.750000</td>\n",
       "      <td>6.144842</td>\n",
       "      <td>177.203942</td>\n",
       "      <td>368.188309</td>\n",
       "      <td>3.407964</td>\n",
       "      <td>7.700000e+01</td>\n",
       "      <td>0.000000</td>\n",
       "    </tr>\n",
       "    <tr>\n",
       "      <th>50%</th>\n",
       "      <td>841.500000</td>\n",
       "      <td>7.032329</td>\n",
       "      <td>197.509503</td>\n",
       "      <td>422.456052</td>\n",
       "      <td>3.935400</td>\n",
       "      <td>4.080000e+02</td>\n",
       "      <td>0.000000</td>\n",
       "    </tr>\n",
       "    <tr>\n",
       "      <th>75%</th>\n",
       "      <td>1262.250000</td>\n",
       "      <td>8.009035</td>\n",
       "      <td>215.453670</td>\n",
       "      <td>481.545011</td>\n",
       "      <td>4.499066</td>\n",
       "      <td>1.725000e+03</td>\n",
       "      <td>0.000000</td>\n",
       "    </tr>\n",
       "    <tr>\n",
       "      <th>max</th>\n",
       "      <td>1683.000000</td>\n",
       "      <td>13.175402</td>\n",
       "      <td>323.124000</td>\n",
       "      <td>695.369528</td>\n",
       "      <td>6.494249</td>\n",
       "      <td>3.000000e+08</td>\n",
       "      <td>1.000000</td>\n",
       "    </tr>\n",
       "  </tbody>\n",
       "</table>\n",
       "</div>"
      ],
      "text/plain": [
       "        Unnamed: 0           ph     Hardness  Conductivity    Turbidity  \\\n",
       "count  1684.000000  1684.000000  1684.000000   1684.000000  1684.000000   \n",
       "mean    841.500000     7.084468   196.451376    427.322914     3.948001   \n",
       "std     486.273243     1.509974    32.211391     79.596333     0.790003   \n",
       "min       0.000000     0.227499    47.432000    181.483754     1.492207   \n",
       "25%     420.750000     6.144842   177.203942    368.188309     3.407964   \n",
       "50%     841.500000     7.032329   197.509503    422.456052     3.935400   \n",
       "75%    1262.250000     8.009035   215.453670    481.545011     4.499066   \n",
       "max    1683.000000    13.175402   323.124000    695.369528     6.494249   \n",
       "\n",
       "                 TC  portability  \n",
       "count  1.684000e+03  1684.000000  \n",
       "mean   2.840966e+05     0.002969  \n",
       "std    8.289090e+06     0.054425  \n",
       "min    0.000000e+00     0.000000  \n",
       "25%    7.700000e+01     0.000000  \n",
       "50%    4.080000e+02     0.000000  \n",
       "75%    1.725000e+03     0.000000  \n",
       "max    3.000000e+08     1.000000  "
      ]
     },
     "execution_count": 5,
     "metadata": {},
     "output_type": "execute_result"
    }
   ],
   "source": [
    "df.describe()"
   ]
  },
  {
   "cell_type": "code",
   "execution_count": 6,
   "id": "34cd0012",
   "metadata": {},
   "outputs": [
    {
     "data": {
      "text/plain": [
       "0       False\n",
       "1       False\n",
       "2       False\n",
       "3       False\n",
       "4       False\n",
       "        ...  \n",
       "1679    False\n",
       "1680    False\n",
       "1681    False\n",
       "1682    False\n",
       "1683    False\n",
       "Length: 1684, dtype: bool"
      ]
     },
     "execution_count": 6,
     "metadata": {},
     "output_type": "execute_result"
    }
   ],
   "source": [
    "df.duplicated()"
   ]
  },
  {
   "cell_type": "code",
   "execution_count": 7,
   "id": "b7bb233f",
   "metadata": {},
   "outputs": [
    {
     "data": {
      "text/plain": [
       "Unnamed: 0      0\n",
       "ph              0\n",
       "Hardness        0\n",
       "Conductivity    0\n",
       "Turbidity       0\n",
       "TC              0\n",
       "portability     0\n",
       "dtype: int64"
      ]
     },
     "execution_count": 7,
     "metadata": {},
     "output_type": "execute_result"
    }
   ],
   "source": [
    "df.isnull().sum()"
   ]
  },
  {
   "cell_type": "code",
   "execution_count": 8,
   "id": "6f531ec9",
   "metadata": {},
   "outputs": [
    {
     "data": {
      "text/plain": [
       "portability\n",
       "0    1679\n",
       "1       5\n",
       "Name: count, dtype: int64"
      ]
     },
     "execution_count": 8,
     "metadata": {},
     "output_type": "execute_result"
    }
   ],
   "source": [
    "df[\"portability\"].value_counts()"
   ]
  },
  {
   "cell_type": "code",
   "execution_count": 9,
   "id": "a91d0303",
   "metadata": {},
   "outputs": [
    {
     "data": {
      "text/plain": [
       "<Axes: xlabel='portability', ylabel='count'>"
      ]
     },
     "execution_count": 9,
     "metadata": {},
     "output_type": "execute_result"
    },
    {
     "data": {
      "image/png": "[encoded data removed]",
      "text/plain": [
       "<Figure size 1000x700 with 1 Axes>"
      ]
     },
     "metadata": {},
     "output_type": "display_data"
    }
   ],
   "source": [
    "plt.figure(figsize = (10,7))\n",
    "sns.countplot(x = 'portability', data=df)"
   ]
  },
  {
   "cell_type": "code",
   "execution_count": 10,
   "id": "1080b8de",
   "metadata": {},
   "outputs": [
    {
     "data": {
      "image/png": "[encoded data removed]",
      "text/plain": [
       "<Figure size 640x480 with 1 Axes>"
      ]
     },
     "metadata": {},
     "output_type": "display_data"
    }
   ],
   "source": [
    "value_counts = df['portability'].value_counts()\n",
    "\n",
    "plt.pie(value_counts, labels = value_counts.index, autopct = \"%1.1f%%\")\n",
    "plt.title(\"portability\")\n",
    "plt.show()"
   ]
  },
  {
   "cell_type": "code",
   "execution_count": 11,
   "id": "3ed4348c",
   "metadata": {},
   "outputs": [
    {
     "data": {
      "text/html": [
       "<div>\n",
       "<style scoped>\n",
       "    .dataframe tbody tr th:only-of-type {\n",
       "        vertical-align: middle;\n",
       "    }\n",
       "\n",
       "    .dataframe tbody tr th {\n",
       "        vertical-align: top;\n",
       "    }\n",
       "\n",
       "    .dataframe thead th {\n",
       "        text-align: right;\n",
       "    }\n",
       "</style>\n",
       "<table border=\"1\" class=\"dataframe\">\n",
       "  <thead>\n",
       "    <tr style=\"text-align: right;\">\n",
       "      <th></th>\n",
       "      <th>Unnamed: 0</th>\n",
       "      <th>ph</th>\n",
       "      <th>Hardness</th>\n",
       "      <th>Conductivity</th>\n",
       "      <th>Turbidity</th>\n",
       "      <th>TC</th>\n",
       "      <th>portability</th>\n",
       "    </tr>\n",
       "  </thead>\n",
       "  <tbody>\n",
       "    <tr>\n",
       "      <th>0</th>\n",
       "      <td>0</td>\n",
       "      <td>3.716080</td>\n",
       "      <td>129.422921</td>\n",
       "      <td>592.885359</td>\n",
       "      <td>4.500656</td>\n",
       "      <td>8391.0</td>\n",
       "      <td>0</td>\n",
       "    </tr>\n",
       "    <tr>\n",
       "      <th>1</th>\n",
       "      <td>1</td>\n",
       "      <td>8.099124</td>\n",
       "      <td>224.236259</td>\n",
       "      <td>418.606213</td>\n",
       "      <td>3.055934</td>\n",
       "      <td>5330.0</td>\n",
       "      <td>0</td>\n",
       "    </tr>\n",
       "    <tr>\n",
       "      <th>2</th>\n",
       "      <td>2</td>\n",
       "      <td>8.316766</td>\n",
       "      <td>214.373394</td>\n",
       "      <td>363.266516</td>\n",
       "      <td>4.628771</td>\n",
       "      <td>8443.0</td>\n",
       "      <td>0</td>\n",
       "    </tr>\n",
       "    <tr>\n",
       "      <th>3</th>\n",
       "      <td>3</td>\n",
       "      <td>9.092223</td>\n",
       "      <td>181.101509</td>\n",
       "      <td>398.410813</td>\n",
       "      <td>4.075075</td>\n",
       "      <td>5500.0</td>\n",
       "      <td>0</td>\n",
       "    </tr>\n",
       "    <tr>\n",
       "      <th>4</th>\n",
       "      <td>4</td>\n",
       "      <td>5.584087</td>\n",
       "      <td>188.313324</td>\n",
       "      <td>280.467916</td>\n",
       "      <td>2.559708</td>\n",
       "      <td>4049.0</td>\n",
       "      <td>0</td>\n",
       "    </tr>\n",
       "  </tbody>\n",
       "</table>\n",
       "</div>"
      ],
      "text/plain": [
       "   Unnamed: 0        ph    Hardness  Conductivity  Turbidity      TC  \\\n",
       "0           0  3.716080  129.422921    592.885359   4.500656  8391.0   \n",
       "1           1  8.099124  224.236259    418.606213   3.055934  5330.0   \n",
       "2           2  8.316766  214.373394    363.266516   4.628771  8443.0   \n",
       "3           3  9.092223  181.101509    398.410813   4.075075  5500.0   \n",
       "4           4  5.584087  188.313324    280.467916   2.559708  4049.0   \n",
       "\n",
       "   portability  \n",
       "0            0  \n",
       "1            0  \n",
       "2            0  \n",
       "3            0  \n",
       "4            0  "
      ]
     },
     "execution_count": 11,
     "metadata": {},
     "output_type": "execute_result"
    }
   ],
   "source": [
    "df.head()"
   ]
  },
  {
   "cell_type": "code",
   "execution_count": 12,
   "id": "2663d7d0",
   "metadata": {},
   "outputs": [],
   "source": [
    "df = df.drop(\"Unnamed: 0\", axis = 1)"
   ]
  },
  {
   "cell_type": "code",
   "execution_count": 13,
   "id": "c82762e2",
   "metadata": {},
   "outputs": [],
   "source": [
    "df1 = df.rename(columns = {\"Hardness\":\"hard\", \"Conductivity\":\"cond\", \"Turbidity\":\"turb\", \"portability\":\"port\"})"
   ]
  },
  {
   "cell_type": "code",
   "execution_count": 14,
   "id": "2c9e8372",
   "metadata": {
    "scrolled": true
   },
   "outputs": [
    {
     "data": {
      "text/plain": [
       "Index(['ph', 'hard', 'cond', 'turb', 'TC', 'port'], dtype='object')"
      ]
     },
     "execution_count": 14,
     "metadata": {},
     "output_type": "execute_result"
    }
   ],
   "source": [
    "df1.columns"
   ]
  },
  {
   "cell_type": "code",
   "execution_count": 15,
   "id": "06b4aadd",
   "metadata": {},
   "outputs": [
    {
     "data": {
      "text/html": [
       "<div>\n",
       "<style scoped>\n",
       "    .dataframe tbody tr th:only-of-type {\n",
       "        vertical-align: middle;\n",
       "    }\n",
       "\n",
       "    .dataframe tbody tr th {\n",
       "        vertical-align: top;\n",
       "    }\n",
       "\n",
       "    .dataframe thead th {\n",
       "        text-align: right;\n",
       "    }\n",
       "</style>\n",
       "<table border=\"1\" class=\"dataframe\">\n",
       "  <thead>\n",
       "    <tr style=\"text-align: right;\">\n",
       "      <th></th>\n",
       "      <th>ph</th>\n",
       "      <th>hard</th>\n",
       "      <th>cond</th>\n",
       "      <th>turb</th>\n",
       "      <th>TC</th>\n",
       "      <th>port</th>\n",
       "    </tr>\n",
       "  </thead>\n",
       "  <tbody>\n",
       "    <tr>\n",
       "      <th>0</th>\n",
       "      <td>3.716080</td>\n",
       "      <td>129.422921</td>\n",
       "      <td>592.885359</td>\n",
       "      <td>4.500656</td>\n",
       "      <td>8391.0</td>\n",
       "      <td>0</td>\n",
       "    </tr>\n",
       "    <tr>\n",
       "      <th>1</th>\n",
       "      <td>8.099124</td>\n",
       "      <td>224.236259</td>\n",
       "      <td>418.606213</td>\n",
       "      <td>3.055934</td>\n",
       "      <td>5330.0</td>\n",
       "      <td>0</td>\n",
       "    </tr>\n",
       "    <tr>\n",
       "      <th>2</th>\n",
       "      <td>8.316766</td>\n",
       "      <td>214.373394</td>\n",
       "      <td>363.266516</td>\n",
       "      <td>4.628771</td>\n",
       "      <td>8443.0</td>\n",
       "      <td>0</td>\n",
       "    </tr>\n",
       "    <tr>\n",
       "      <th>3</th>\n",
       "      <td>9.092223</td>\n",
       "      <td>181.101509</td>\n",
       "      <td>398.410813</td>\n",
       "      <td>4.075075</td>\n",
       "      <td>5500.0</td>\n",
       "      <td>0</td>\n",
       "    </tr>\n",
       "    <tr>\n",
       "      <th>4</th>\n",
       "      <td>5.584087</td>\n",
       "      <td>188.313324</td>\n",
       "      <td>280.467916</td>\n",
       "      <td>2.559708</td>\n",
       "      <td>4049.0</td>\n",
       "      <td>0</td>\n",
       "    </tr>\n",
       "  </tbody>\n",
       "</table>\n",
       "</div>"
      ],
      "text/plain": [
       "         ph        hard        cond      turb      TC  port\n",
       "0  3.716080  129.422921  592.885359  4.500656  8391.0     0\n",
       "1  8.099124  224.236259  418.606213  3.055934  5330.0     0\n",
       "2  8.316766  214.373394  363.266516  4.628771  8443.0     0\n",
       "3  9.092223  181.101509  398.410813  4.075075  5500.0     0\n",
       "4  5.584087  188.313324  280.467916  2.559708  4049.0     0"
      ]
     },
     "execution_count": 15,
     "metadata": {},
     "output_type": "execute_result"
    }
   ],
   "source": [
    "df1.head()"
   ]
  },
  {
   "cell_type": "code",
   "execution_count": 16,
   "id": "e114af63",
   "metadata": {},
   "outputs": [
    {
     "data": {
      "text/plain": [
       "<Axes: >"
      ]
     },
     "execution_count": 16,
     "metadata": {},
     "output_type": "execute_result"
    },
    {
     "data": {
      "image/png": "[encoded data removed]",
      "text/plain": [
       "<Figure size 1500x700 with 2 Axes>"
      ]
     },
     "metadata": {},
     "output_type": "display_data"
    }
   ],
   "source": [
    "plt.figure(figsize = (15,7))\n",
    "sns.heatmap(df1.corr(), annot = True)"
   ]
  },
  {
   "cell_type": "code",
   "execution_count": 17,
   "id": "110e7048",
   "metadata": {},
   "outputs": [
    {
     "data": {
      "text/html": [
       "<div>\n",
       "<style scoped>\n",
       "    .dataframe tbody tr th:only-of-type {\n",
       "        vertical-align: middle;\n",
       "    }\n",
       "\n",
       "    .dataframe tbody tr th {\n",
       "        vertical-align: top;\n",
       "    }\n",
       "\n",
       "    .dataframe thead th {\n",
       "        text-align: right;\n",
       "    }\n",
       "</style>\n",
       "<table border=\"1\" class=\"dataframe\">\n",
       "  <thead>\n",
       "    <tr style=\"text-align: right;\">\n",
       "      <th></th>\n",
       "      <th>ph</th>\n",
       "      <th>hard</th>\n",
       "      <th>cond</th>\n",
       "      <th>turb</th>\n",
       "      <th>TC</th>\n",
       "      <th>port</th>\n",
       "    </tr>\n",
       "  </thead>\n",
       "  <tbody>\n",
       "    <tr>\n",
       "      <th>0</th>\n",
       "      <td>3.716080</td>\n",
       "      <td>129.422921</td>\n",
       "      <td>592.885359</td>\n",
       "      <td>4.500656</td>\n",
       "      <td>8391.0</td>\n",
       "      <td>0</td>\n",
       "    </tr>\n",
       "    <tr>\n",
       "      <th>1</th>\n",
       "      <td>8.099124</td>\n",
       "      <td>224.236259</td>\n",
       "      <td>418.606213</td>\n",
       "      <td>3.055934</td>\n",
       "      <td>5330.0</td>\n",
       "      <td>0</td>\n",
       "    </tr>\n",
       "    <tr>\n",
       "      <th>2</th>\n",
       "      <td>8.316766</td>\n",
       "      <td>214.373394</td>\n",
       "      <td>363.266516</td>\n",
       "      <td>4.628771</td>\n",
       "      <td>8443.0</td>\n",
       "      <td>0</td>\n",
       "    </tr>\n",
       "    <tr>\n",
       "      <th>3</th>\n",
       "      <td>9.092223</td>\n",
       "      <td>181.101509</td>\n",
       "      <td>398.410813</td>\n",
       "      <td>4.075075</td>\n",
       "      <td>5500.0</td>\n",
       "      <td>0</td>\n",
       "    </tr>\n",
       "    <tr>\n",
       "      <th>4</th>\n",
       "      <td>5.584087</td>\n",
       "      <td>188.313324</td>\n",
       "      <td>280.467916</td>\n",
       "      <td>2.559708</td>\n",
       "      <td>4049.0</td>\n",
       "      <td>0</td>\n",
       "    </tr>\n",
       "  </tbody>\n",
       "</table>\n",
       "</div>"
      ],
      "text/plain": [
       "         ph        hard        cond      turb      TC  port\n",
       "0  3.716080  129.422921  592.885359  4.500656  8391.0     0\n",
       "1  8.099124  224.236259  418.606213  3.055934  5330.0     0\n",
       "2  8.316766  214.373394  363.266516  4.628771  8443.0     0\n",
       "3  9.092223  181.101509  398.410813  4.075075  5500.0     0\n",
       "4  5.584087  188.313324  280.467916  2.559708  4049.0     0"
      ]
     },
     "execution_count": 17,
     "metadata": {},
     "output_type": "execute_result"
    }
   ],
   "source": [
    "df1.head()"
   ]
  },
  {
   "cell_type": "markdown",
   "id": "fbe82ee0",
   "metadata": {},
   "source": [
    "## Data Splitting 1"
   ]
  },
  {
   "cell_type": "code",
   "execution_count": 18,
   "id": "493b487c",
   "metadata": {},
   "outputs": [],
   "source": [
    "x = df1.iloc[:,:-1]\n",
    "y = df1.iloc[:,-1]"
   ]
  },
  {
   "cell_type": "markdown",
   "id": "7fe97d93",
   "metadata": {},
   "source": [
    "## FEATURE SCALING (Standardization using StandardScaler)"
   ]
  },
  {
   "cell_type": "code",
   "execution_count": 19,
   "id": "867229e3",
   "metadata": {},
   "outputs": [],
   "source": [
    "sc = StandardScaler()\n",
    "x = sc.fit_transform(x)"
   ]
  },
  {
   "cell_type": "markdown",
   "id": "a6f923b5",
   "metadata": {},
   "source": [
    "## CLASS BALANCING ::: Handling class imbalance i.e (oversampling or undersampling)"
   ]
  },
  {
   "cell_type": "code",
   "execution_count": 20,
   "id": "cb3a0a83",
   "metadata": {},
   "outputs": [],
   "source": [
    "from imblearn.over_sampling import SMOTE\n",
    "smote = SMOTE(k_neighbors = 4)\n",
    "x, y = smote.fit_resample(x, y)"
   ]
  },
  {
   "cell_type": "markdown",
   "id": "c7198568",
   "metadata": {},
   "source": [
    "## Data Splitting 1"
   ]
  },
  {
   "cell_type": "code",
   "execution_count": 21,
   "id": "89064559",
   "metadata": {},
   "outputs": [],
   "source": [
    "from sklearn.model_selection import train_test_split\n",
    "x_train,x_test, y_train,y_test = train_test_split(x,y, test_size = 0.15)"
   ]
  },
  {
   "cell_type": "markdown",
   "id": "baa7b4dd",
   "metadata": {},
   "source": [
    "## MODEL DEVELOPMENT :::: Logistic Regression Model"
   ]
  },
  {
   "cell_type": "code",
   "execution_count": 22,
   "id": "3e107fdc",
   "metadata": {},
   "outputs": [
    {
     "name": "stdout",
     "output_type": "stream",
     "text": [
      "              precision    recall  f1-score   support\n",
      "\n",
      "           0       0.95      1.00      0.97       226\n",
      "           1       1.00      0.95      0.98       278\n",
      "\n",
      "    accuracy                           0.97       504\n",
      "   macro avg       0.97      0.98      0.97       504\n",
      "weighted avg       0.98      0.97      0.97       504\n",
      "\n"
     ]
    }
   ],
   "source": [
    "lr_model = LogisticRegression()\n",
    "lr_model.fit(x_train,y_train)\n",
    "lr_pred = lr_model.predict(x_test)\n",
    "print(classification_report(lr_pred,y_test))"
   ]
  },
  {
   "cell_type": "code",
   "execution_count": 23,
   "id": "b2058579",
   "metadata": {},
   "outputs": [
    {
     "data": {
      "image/png": "[encoded data removed]",
      "text/plain": [
       "<Figure size 1000x600 with 2 Axes>"
      ]
     },
     "metadata": {},
     "output_type": "display_data"
    }
   ],
   "source": [
    "plt.figure(figsize=(10,6))\n",
    "fx=sns.heatmap(confusion_matrix(y_test,lr_pred),annot=True,fmt='.0f',cmap='GnBu')\n",
    "fx.set_xlabel('PREDICTED VALUES')\n",
    "fx.set_ylabel('ACTUAL VALUES')\n",
    "plt.show()"
   ]
  },
  {
   "cell_type": "markdown",
   "id": "ca88d6df",
   "metadata": {},
   "source": [
    "## HYPER PARAMETER FINE-TUNING"
   ]
  },
  {
   "cell_type": "code",
   "execution_count": 24,
   "id": "0a42f08a",
   "metadata": {},
   "outputs": [],
   "source": [
    "from sklearn.model_selection import GridSearchCV"
   ]
  },
  {
   "cell_type": "code",
   "execution_count": 25,
   "id": "c5b6bbf5",
   "metadata": {},
   "outputs": [],
   "source": [
    "parameters = {\"C\":[0.1, 0.5, 0.2, 0.3, 0.6], \"penalty\":[\"l1\", \"l2\"]}"
   ]
  },
  {
   "cell_type": "code",
   "execution_count": 26,
   "id": "43faf081",
   "metadata": {},
   "outputs": [],
   "source": [
    "gsearch = GridSearchCV(lr_model, parameters, cv = 10)"
   ]
  },
  {
   "cell_type": "code",
   "execution_count": 27,
   "id": "c031f39c",
   "metadata": {},
   "outputs": [
    {
     "name": "stdout",
     "output_type": "stream",
     "text": [
      "{'C': 0.5, 'penalty': 'l2'}\n",
      "              precision    recall  f1-score   support\n",
      "\n",
      "           0       1.00      0.95      0.97       239\n",
      "           1       0.95      1.00      0.98       265\n",
      "\n",
      "    accuracy                           0.97       504\n",
      "   macro avg       0.98      0.97      0.97       504\n",
      "weighted avg       0.98      0.97      0.97       504\n",
      "\n"
     ]
    }
   ],
   "source": [
    "gsearch.fit(x_train, y_train)\n",
    "print(gsearch.best_params_)\n",
    "bestmodel = gsearch.best_estimator_\n",
    "pred = bestmodel.predict(x_test)\n",
    "print (classification_report(y_test, pred))"
   ]
  },
  {
   "cell_type": "code",
   "execution_count": 28,
   "id": "d83e8f36",
   "metadata": {},
   "outputs": [
    {
     "data": {
      "image/png": "[encoded data removed]",
      "text/plain": [
       "<Figure size 1000x600 with 2 Axes>"
      ]
     },
     "metadata": {},
     "output_type": "display_data"
    }
   ],
   "source": [
    "plt.figure(figsize=(10,6))\n",
    "fx=sns.heatmap(confusion_matrix(y_test, pred),annot=True,fmt='.0f',cmap='GnBu')\n",
    "fx.set_xlabel('PREDICTED VALUES')\n",
    "fx.set_ylabel('ACTUAL VALUES')\n",
    "plt.show()"
   ]
  },
  {
   "cell_type": "code",
   "execution_count": null,
   "id": "4b9de780",
   "metadata": {},
   "outputs": [],
   "source": []
  }
 ],
 "metadata": {
  "kernelspec": {
   "display_name": "Python 3 (ipykernel)",
   "language": "python",
   "name": "python3"
  },
  "language_info": {
   "codemirror_mode": {
    "name": "ipython",
    "version": 3
   },
   "file_extension": ".py",
   "mimetype": "text/x-python",
   "name": "python",
   "nbconvert_exporter": "python",
   "pygments_lexer": "ipython3",
   "version": "3.11.5"
  }
 },
 "nbformat": 4,
 "nbformat_minor": 5
}
